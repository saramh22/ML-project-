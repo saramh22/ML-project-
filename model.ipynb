{
  "nbformat": 4,
  "nbformat_minor": 0,
  "metadata": {
    "kernelspec": {
      "display_name": "Python 3",
      "language": "python",
      "name": "python3"
    },
    "language_info": {
      "codemirror_mode": {
        "name": "ipython",
        "version": 3
      },
      "file_extension": ".py",
      "mimetype": "text/x-python",
      "name": "python",
      "nbconvert_exporter": "python",
      "pygments_lexer": "ipython3",
      "version": "3.6.9"
    },
    "latex_envs": {
      "LaTeX_envs_menu_present": true,
      "autoclose": false,
      "autocomplete": true,
      "bibliofile": "biblio.bib",
      "cite_by": "apalike",
      "current_citInitial": 1,
      "eqLabelWithNumbers": true,
      "eqNumInitial": 1,
      "hotkeys": {
        "equation": "Ctrl-E",
        "itemize": "Ctrl-I"
      },
      "labels_anchors": false,
      "latex_user_defs": false,
      "report_style_numbering": false,
      "user_envs_cfg": false
    },
    "colab": {
      "name": "model.ipynb",
      "provenance": [],
      "toc_visible": true
    },
    "accelerator": "GPU"
  },
  "cells": [
    {
      "cell_type": "markdown",
      "metadata": {
        "id": "zyx3XnMyz-Wq",
        "colab_type": "text"
      },
      "source": [
        "# Table of Contents\n",
        "\n",
        "1. [Building Causal Models](#Building-Causal-Models)\n",
        "2. [Model Analysis](#Model-Analysis)\n",
        "    1. [Causal Effect of Changing Neighborhoods](#Causal-Effect-on-ROI-of-Changing-Neighborhoods---Should-we-choose-North-or-South?)\n",
        "    2. [Causal Effect of Different BPBs](#Causal-Effect-on-ROI-of-Different-BPBs)\n",
        "    3. [Given we want a certain Bed and Baths, where should we buy?](#Given-we-want-a-certain-Bed-and-Baths,-where-should-we-buy?)\n",
        "    4. [Given we want to buy in a certain area, what beds and baths should we buy?](#Given-we-want-to-buy-in-a-certain-area,-what-beds-and-baths-should-we-buy?)\n",
        "3. [Property Examples](#Property-Examples)\n",
        "4. [Next Steps](#Next-Steps)"
      ]
    },
    {
      "cell_type": "code",
      "metadata": {
        "id": "99-K7JvR0F7x",
        "colab_type": "code",
        "colab": {
          "base_uri": "https://localhost:8080/",
          "height": 221
        },
        "outputId": "7951859f-1d50-4429-c2e5-8d8c044269af"
      },
      "source": [
        "!pip install pyro-ppl"
      ],
      "execution_count": 1,
      "outputs": [
        {
          "output_type": "stream",
          "text": [
            "Collecting pyro-ppl\n",
            "\u001b[?25l  Downloading https://files.pythonhosted.org/packages/c0/77/4db4946f6b5bf0601869c7b7594def42a7197729167484e1779fff5ca0d6/pyro_ppl-1.3.1-py3-none-any.whl (520kB)\n",
            "\r\u001b[K     |▋                               | 10kB 25.4MB/s eta 0:00:01\r\u001b[K     |█▎                              | 20kB 30.7MB/s eta 0:00:01\r\u001b[K     |█▉                              | 30kB 33.5MB/s eta 0:00:01\r\u001b[K     |██▌                             | 40kB 36.0MB/s eta 0:00:01\r\u001b[K     |███▏                            | 51kB 37.7MB/s eta 0:00:01\r\u001b[K     |███▊                            | 61kB 39.5MB/s eta 0:00:01\r\u001b[K     |████▍                           | 71kB 39.3MB/s eta 0:00:01\r\u001b[K     |█████                           | 81kB 39.7MB/s eta 0:00:01\r\u001b[K     |█████▋                          | 92kB 41.3MB/s eta 0:00:01\r\u001b[K     |██████▎                         | 102kB 42.9MB/s eta 0:00:01\r\u001b[K     |███████                         | 112kB 42.9MB/s eta 0:00:01\r\u001b[K     |███████▌                        | 122kB 42.9MB/s eta 0:00:01\r\u001b[K     |████████▏                       | 133kB 42.9MB/s eta 0:00:01\r\u001b[K     |████████▉                       | 143kB 42.9MB/s eta 0:00:01\r\u001b[K     |█████████▍                      | 153kB 42.9MB/s eta 0:00:01\r\u001b[K     |██████████                      | 163kB 42.9MB/s eta 0:00:01\r\u001b[K     |██████████▊                     | 174kB 42.9MB/s eta 0:00:01\r\u001b[K     |███████████▎                    | 184kB 42.9MB/s eta 0:00:01\r\u001b[K     |████████████                    | 194kB 42.9MB/s eta 0:00:01\r\u001b[K     |████████████▋                   | 204kB 42.9MB/s eta 0:00:01\r\u001b[K     |█████████████▏                  | 215kB 42.9MB/s eta 0:00:01\r\u001b[K     |█████████████▉                  | 225kB 42.9MB/s eta 0:00:01\r\u001b[K     |██████████████▌                 | 235kB 42.9MB/s eta 0:00:01\r\u001b[K     |███████████████                 | 245kB 42.9MB/s eta 0:00:01\r\u001b[K     |███████████████▊                | 256kB 42.9MB/s eta 0:00:01\r\u001b[K     |████████████████▍               | 266kB 42.9MB/s eta 0:00:01\r\u001b[K     |█████████████████               | 276kB 42.9MB/s eta 0:00:01\r\u001b[K     |█████████████████▋              | 286kB 42.9MB/s eta 0:00:01\r\u001b[K     |██████████████████▎             | 296kB 42.9MB/s eta 0:00:01\r\u001b[K     |██████████████████▉             | 307kB 42.9MB/s eta 0:00:01\r\u001b[K     |███████████████████▌            | 317kB 42.9MB/s eta 0:00:01\r\u001b[K     |████████████████████▏           | 327kB 42.9MB/s eta 0:00:01\r\u001b[K     |████████████████████▊           | 337kB 42.9MB/s eta 0:00:01\r\u001b[K     |█████████████████████▍          | 348kB 42.9MB/s eta 0:00:01\r\u001b[K     |██████████████████████          | 358kB 42.9MB/s eta 0:00:01\r\u001b[K     |██████████████████████▋         | 368kB 42.9MB/s eta 0:00:01\r\u001b[K     |███████████████████████▎        | 378kB 42.9MB/s eta 0:00:01\r\u001b[K     |████████████████████████        | 389kB 42.9MB/s eta 0:00:01\r\u001b[K     |████████████████████████▌       | 399kB 42.9MB/s eta 0:00:01\r\u001b[K     |█████████████████████████▏      | 409kB 42.9MB/s eta 0:00:01\r\u001b[K     |█████████████████████████▉      | 419kB 42.9MB/s eta 0:00:01\r\u001b[K     |██████████████████████████▍     | 430kB 42.9MB/s eta 0:00:01\r\u001b[K     |███████████████████████████     | 440kB 42.9MB/s eta 0:00:01\r\u001b[K     |███████████████████████████▊    | 450kB 42.9MB/s eta 0:00:01\r\u001b[K     |████████████████████████████▎   | 460kB 42.9MB/s eta 0:00:01\r\u001b[K     |█████████████████████████████   | 471kB 42.9MB/s eta 0:00:01\r\u001b[K     |█████████████████████████████▋  | 481kB 42.9MB/s eta 0:00:01\r\u001b[K     |██████████████████████████████▏ | 491kB 42.9MB/s eta 0:00:01\r\u001b[K     |██████████████████████████████▉ | 501kB 42.9MB/s eta 0:00:01\r\u001b[K     |███████████████████████████████▌| 512kB 42.9MB/s eta 0:00:01\r\u001b[K     |████████████████████████████████| 522kB 42.9MB/s \n",
            "\u001b[?25hRequirement already satisfied: numpy>=1.7 in /usr/local/lib/python3.6/dist-packages (from pyro-ppl) (1.18.4)\n",
            "Requirement already satisfied: torch>=1.4.0 in /usr/local/lib/python3.6/dist-packages (from pyro-ppl) (1.5.0+cu101)\n",
            "Requirement already satisfied: opt-einsum>=2.3.2 in /usr/local/lib/python3.6/dist-packages (from pyro-ppl) (3.2.1)\n",
            "Requirement already satisfied: tqdm>=4.36 in /usr/local/lib/python3.6/dist-packages (from pyro-ppl) (4.41.1)\n",
            "Collecting pyro-api>=0.1.1\n",
            "  Downloading https://files.pythonhosted.org/packages/c2/bc/6cdbd1929e32fff62a33592633c2cc0393c7f7739131ccc9c9c4e28ac8dd/pyro_api-0.1.1-py3-none-any.whl\n",
            "Requirement already satisfied: future in /usr/local/lib/python3.6/dist-packages (from torch>=1.4.0->pyro-ppl) (0.16.0)\n",
            "Installing collected packages: pyro-api, pyro-ppl\n",
            "Successfully installed pyro-api-0.1.1 pyro-ppl-1.3.1\n"
          ],
          "name": "stdout"
        }
      ]
    },
    {
      "cell_type": "code",
      "metadata": {
        "id": "Q0Zssu-Iz-Wr",
        "colab_type": "code",
        "colab": {
          "base_uri": "https://localhost:8080/",
          "height": 71
        },
        "outputId": "90cd893c-9470-4b99-df39-bd05cda98156"
      },
      "source": [
        "import pyro\n",
        "import pyro.distributions as dist\n",
        "from pyro.infer import Importance, EmpiricalMarginal\n",
        "from statistics import mean\n",
        "import torch\n",
        "import pandas as pd\n",
        "import numpy as np\n",
        "import statsmodels.api as sm\n",
        "from statsmodels.formula.api import ols\n",
        "import statsmodels.stats.multicomp\n",
        "pyro.set_rng_seed(101)"
      ],
      "execution_count": 2,
      "outputs": [
        {
          "output_type": "stream",
          "text": [
            "/usr/local/lib/python3.6/dist-packages/statsmodels/tools/_testing.py:19: FutureWarning: pandas.util.testing is deprecated. Use the functions in the public API at pandas.testing instead.\n",
            "  import pandas.util.testing as tm\n"
          ],
          "name": "stderr"
        }
      ]
    },
    {
      "cell_type": "code",
      "metadata": {
        "id": "i5AQBSpkz-Ww",
        "colab_type": "code",
        "colab": {}
      },
      "source": [
        "df = pd.read_csv(\"data/cleansed_data.csv\")"
      ],
      "execution_count": 0,
      "outputs": []
    },
    {
      "cell_type": "markdown",
      "metadata": {
        "id": "x0J1q7LFz-Wz",
        "colab_type": "text"
      },
      "source": [
        "# Building Causal Models"
      ]
    },
    {
      "cell_type": "markdown",
      "metadata": {
        "id": "FGO-vAegz-W0",
        "colab_type": "text"
      },
      "source": [
        "### Fitting Factor Effects Models for Rent and Zestimate\n",
        "- In order to get the parameters for the Rent and Zestimate calculations we use factor effects models(aka ANOVA models)"
      ]
    },
    {
      "cell_type": "markdown",
      "metadata": {
        "id": "WTaR6Qkgz-W1",
        "colab_type": "text"
      },
      "source": [
        "Taken from [this](https://pythonfordatascience.org/anova-2-way-n-way/) tutorial"
      ]
    },
    {
      "cell_type": "code",
      "metadata": {
        "scrolled": true,
        "id": "u6GL5bYxz-W2",
        "colab_type": "code",
        "colab": {
          "base_uri": "https://localhost:8080/",
          "height": 34
        },
        "outputId": "e458cb69-4d22-4cd6-ce83-401530fc3298"
      },
      "source": [
        "rent_model = ols('Rent ~ C(BPB)', df).fit()\n",
        "\n",
        "# Seeing if the overall model is significant\n",
        "print(f\"Overall model F({rent_model.df_model: .0f},{rent_model.df_resid: .0f}) = {rent_model.fvalue: .3f}, p = {rent_model.f_pvalue: .4f}\")"
      ],
      "execution_count": 4,
      "outputs": [
        {
          "output_type": "stream",
          "text": [
            "Overall model F( 4, 200) =  13.359, p =  0.0000\n"
          ],
          "name": "stdout"
        }
      ]
    },
    {
      "cell_type": "markdown",
      "metadata": {
        "id": "Z3Ht8qnoz-W6",
        "colab_type": "text"
      },
      "source": [
        "Model is signficant"
      ]
    },
    {
      "cell_type": "code",
      "metadata": {
        "id": "MgkA9FP_z-W7",
        "colab_type": "code",
        "colab": {
          "base_uri": "https://localhost:8080/",
          "height": 111
        },
        "outputId": "8cfbd257-b9e3-43bc-92ae-f15abc295602"
      },
      "source": [
        "res = sm.stats.anova_lm(rent_model, typ=2)\n",
        "rent_model_se = (res.sum_sq.Residual / res.df.Residual)**0.5\n",
        "res"
      ],
      "execution_count": 5,
      "outputs": [
        {
          "output_type": "execute_result",
          "data": {
            "text/html": [
              "<div>\n",
              "<style scoped>\n",
              "    .dataframe tbody tr th:only-of-type {\n",
              "        vertical-align: middle;\n",
              "    }\n",
              "\n",
              "    .dataframe tbody tr th {\n",
              "        vertical-align: top;\n",
              "    }\n",
              "\n",
              "    .dataframe thead th {\n",
              "        text-align: right;\n",
              "    }\n",
              "</style>\n",
              "<table border=\"1\" class=\"dataframe\">\n",
              "  <thead>\n",
              "    <tr style=\"text-align: right;\">\n",
              "      <th></th>\n",
              "      <th>sum_sq</th>\n",
              "      <th>df</th>\n",
              "      <th>F</th>\n",
              "      <th>PR(&gt;F)</th>\n",
              "    </tr>\n",
              "  </thead>\n",
              "  <tbody>\n",
              "    <tr>\n",
              "      <th>C(BPB)</th>\n",
              "      <td>242221.823818</td>\n",
              "      <td>4.0</td>\n",
              "      <td>13.359283</td>\n",
              "      <td>1.148343e-09</td>\n",
              "    </tr>\n",
              "    <tr>\n",
              "      <th>Residual</th>\n",
              "      <td>906567.424962</td>\n",
              "      <td>200.0</td>\n",
              "      <td>NaN</td>\n",
              "      <td>NaN</td>\n",
              "    </tr>\n",
              "  </tbody>\n",
              "</table>\n",
              "</div>"
            ],
            "text/plain": [
              "                 sum_sq     df          F        PR(>F)\n",
              "C(BPB)    242221.823818    4.0  13.359283  1.148343e-09\n",
              "Residual  906567.424962  200.0        NaN           NaN"
            ]
          },
          "metadata": {
            "tags": []
          },
          "execution_count": 5
        }
      ]
    },
    {
      "cell_type": "markdown",
      "metadata": {
        "id": "g1w0Nzjbz-W-",
        "colab_type": "text"
      },
      "source": [
        "- Do OLS model for Zestimates\n",
        "- Get Neighborhood Marginal\n",
        "- Get BPB marginal\n",
        "- Get ROI function in the code"
      ]
    },
    {
      "cell_type": "code",
      "metadata": {
        "scrolled": true,
        "id": "DRXySbROz-W_",
        "colab_type": "code",
        "colab": {
          "base_uri": "https://localhost:8080/",
          "height": 34
        },
        "outputId": "2cfd7fb3-fcf3-48ac-8c97-acf40584deb5"
      },
      "source": [
        "zest_model = ols('Zest ~ C(BPB) + C(Neigh)', df).fit()\n",
        "\n",
        "# Seeing if the overall model is significant\n",
        "print(f\"Overall model F({zest_model.df_model: .0f},{zest_model.df_resid: .0f}) = {zest_model.fvalue: .3f}, p = {zest_model.f_pvalue: .4f}\")"
      ],
      "execution_count": 6,
      "outputs": [
        {
          "output_type": "stream",
          "text": [
            "Overall model F( 5, 199) =  8.702, p =  0.0000\n"
          ],
          "name": "stdout"
        }
      ]
    },
    {
      "cell_type": "code",
      "metadata": {
        "scrolled": true,
        "id": "LJUU8gyiz-XC",
        "colab_type": "code",
        "colab": {
          "base_uri": "https://localhost:8080/",
          "height": 142
        },
        "outputId": "69c03351-14e9-4632-a8a7-f2944665f4c6"
      },
      "source": [
        "res = sm.stats.anova_lm(zest_model, typ=2)\n",
        "zest_model_se = (res.sum_sq.Residual / res.df.Residual)**0.5\n",
        "res"
      ],
      "execution_count": 7,
      "outputs": [
        {
          "output_type": "execute_result",
          "data": {
            "text/html": [
              "<div>\n",
              "<style scoped>\n",
              "    .dataframe tbody tr th:only-of-type {\n",
              "        vertical-align: middle;\n",
              "    }\n",
              "\n",
              "    .dataframe tbody tr th {\n",
              "        vertical-align: top;\n",
              "    }\n",
              "\n",
              "    .dataframe thead th {\n",
              "        text-align: right;\n",
              "    }\n",
              "</style>\n",
              "<table border=\"1\" class=\"dataframe\">\n",
              "  <thead>\n",
              "    <tr style=\"text-align: right;\">\n",
              "      <th></th>\n",
              "      <th>sum_sq</th>\n",
              "      <th>df</th>\n",
              "      <th>F</th>\n",
              "      <th>PR(&gt;F)</th>\n",
              "    </tr>\n",
              "  </thead>\n",
              "  <tbody>\n",
              "    <tr>\n",
              "      <th>C(BPB)</th>\n",
              "      <td>9.832538e+11</td>\n",
              "      <td>4.0</td>\n",
              "      <td>0.417948</td>\n",
              "      <td>7.955891e-01</td>\n",
              "    </tr>\n",
              "    <tr>\n",
              "      <th>C(Neigh)</th>\n",
              "      <td>2.399361e+13</td>\n",
              "      <td>1.0</td>\n",
              "      <td>40.795532</td>\n",
              "      <td>1.170317e-09</td>\n",
              "    </tr>\n",
              "    <tr>\n",
              "      <th>Residual</th>\n",
              "      <td>1.170405e+14</td>\n",
              "      <td>199.0</td>\n",
              "      <td>NaN</td>\n",
              "      <td>NaN</td>\n",
              "    </tr>\n",
              "  </tbody>\n",
              "</table>\n",
              "</div>"
            ],
            "text/plain": [
              "                sum_sq     df          F        PR(>F)\n",
              "C(BPB)    9.832538e+11    4.0   0.417948  7.955891e-01\n",
              "C(Neigh)  2.399361e+13    1.0  40.795532  1.170317e-09\n",
              "Residual  1.170405e+14  199.0        NaN           NaN"
            ]
          },
          "metadata": {
            "tags": []
          },
          "execution_count": 7
        }
      ]
    },
    {
      "cell_type": "markdown",
      "metadata": {
        "id": "9FkLm4PCz-XG",
        "colab_type": "text"
      },
      "source": [
        "### Functions for Calculating ROI\n",
        "- below are the functions and hyperparameters for calculating ROI"
      ]
    },
    {
      "cell_type": "code",
      "metadata": {
        "id": "fzrXSnGAz-XH",
        "colab_type": "code",
        "colab": {}
      },
      "source": [
        "# ROI Consts\n",
        "INFLATION_RATE = 0.028\n",
        "MORTGAGE_RATE = 0.036\n",
        "NUM_YEARS = 15\n",
        "DOWN_PAYMENT = 0.20\n",
        "\n",
        "\n",
        "def calculate_monthly(P, mortgage_rate, num_years):\n",
        "    n = num_years * 12\n",
        "    monthly_i = mortgage_rate / 12\n",
        "    numerator = monthly_i * (1 + monthly_i) ** n\n",
        "    denominator = ((1 + monthly_i) ** n) - 1\n",
        "    return P * numerator / denominator\n",
        "\n",
        "\n",
        "def airbnb_income(price, inflation_rate, num_years):\n",
        "    total = 0\n",
        "    for year_number in range(num_years):\n",
        "        curr_inflation = (1 + inflation_rate) ** year_number\n",
        "        total += (price * curr_inflation) * 12\n",
        "    return total\n",
        "\n",
        "\n",
        "def roi(zestimate, inflation_rate, mortgage_rate, num_years, rental_price, down_payment_percent):\n",
        "    down_payment = zestimate * down_payment_percent\n",
        "    P = zestimate * (1 - down_payment_percent)\n",
        "\n",
        "    incurred_cost = calculate_monthly(\n",
        "        P, mortgage_rate, num_years) * 12 * num_years + down_payment\n",
        "\n",
        "    income = airbnb_income(price=rental_price,\n",
        "                           inflation_rate=inflation_rate,\n",
        "                           num_years=num_years)\n",
        "\n",
        "    return (income - incurred_cost) / incurred_cost"
      ],
      "execution_count": 0,
      "outputs": []
    },
    {
      "cell_type": "markdown",
      "metadata": {
        "id": "BwObCouEz-XK",
        "colab_type": "text"
      },
      "source": [
        "### Model 1\n",
        "\n",
        "- Simpler causal model without exogenous variables"
      ]
    },
    {
      "cell_type": "code",
      "metadata": {
        "id": "c2rR7TxMz-XL",
        "colab_type": "code",
        "colab": {}
      },
      "source": [
        "Neigh_alias = ['Neigh_North', 'Neigh_South']\n",
        "BPB_alias = [2, 3, 4, 5, 6]\n",
        "\n",
        "north_prob = float(len(df[df['Neigh'] == 'Neigh_North']))/len(df)\n",
        "bpb_prob = [(df.BPB == a).count()/len(df) for a in BPB_alias]\n",
        "\n",
        "\n",
        "Neigh_prob = torch.tensor([north_prob, 1 - north_prob])\n",
        "BPB_prob = torch.tensor(bpb_prob)\n",
        "\n",
        "\n",
        "def model():\n",
        "    Neigh = pyro.sample(\"Neigh\", dist.Categorical(probs=Neigh_prob))\n",
        "    BPB = pyro.sample(\"BPB\", dist.Categorical(probs=BPB_prob))\n",
        "\n",
        "    bpb_converted = BPB_alias[BPB]\n",
        "    neigh_converted = Neigh_alias[Neigh]\n",
        "    rent_pred = rent_model.predict(pd.DataFrame({'BPB': [bpb_converted]}))[0]\n",
        "    zest_pred = zest_model.predict(pd.DataFrame(\n",
        "        {'BPB': [bpb_converted], 'Neigh': [neigh_converted]}))[0]\n",
        "\n",
        "    Rent = pyro.sample(\"Rent\", dist.Delta(torch.tensor(rent_pred)))\n",
        "    Zest = pyro.sample(\"Zest\", dist.Delta(torch.tensor(zest_pred)))\n",
        "\n",
        "    ROI = pyro.sample(\"ROI\", dist.Delta(roi(zestimate=Zest,\n",
        "                                            rental_price=Rent,\n",
        "                                            inflation_rate=INFLATION_RATE,\n",
        "                                            mortgage_rate=MORTGAGE_RATE,\n",
        "                                            num_years=NUM_YEARS,\n",
        "                                            down_payment_percent=DOWN_PAYMENT)))\n",
        "\n",
        "    return {'Neigh': Neigh, 'BPB': BPB, 'Rent': Rent, 'Zest': Zest, 'ROI': ROI}"
      ],
      "execution_count": 0,
      "outputs": []
    },
    {
      "cell_type": "markdown",
      "metadata": {
        "id": "S751JrM-z-XO",
        "colab_type": "text"
      },
      "source": [
        "### Model 2 - SCM"
      ]
    },
    {
      "cell_type": "markdown",
      "metadata": {
        "id": "2oCWCUGrz-XP",
        "colab_type": "text"
      },
      "source": [
        "\\begin{align}\n",
        "Nb &= p(BPB=2)=p_2, p(BPB=3)=p_3, p(BPB=4)=p_4,p(BPB=5)=p_5, p(BPB=6)=p_6 \\\\\n",
        "Nr &= \\mathcal{N}(0, \\text{rent model standard error}) \\\\\n",
        "Nz &= \\mathcal{N}(0, \\text{zest model standard error}) \\\\\n",
        "Nn &= Bernoulli(p_{south})\\\\\\\\\n",
        "Neigh &= Nn \\\\\n",
        "BPB &= Nb \\\\\n",
        "Rent &= bpb_3 \\cdot a + bpb_4 \\cdot b + bpb_5 \\cdot d + bpb_6 \\cdot d + e +Nrent\\\\\n",
        "Zest &= bpb_3 \\cdot a + bpb_4 \\cdot b + bpb_5 \\cdot d + bpb_6 \\cdot d + NeighSouth \\cdot e + f + Nz \\\\\n",
        "ROI &= \\text{ROIfunc}(Rent, Zest)\n",
        "\\end{align}"
      ]
    },
    {
      "cell_type": "code",
      "metadata": {
        "id": "GmBGXlSsz-XP",
        "colab_type": "code",
        "colab": {}
      },
      "source": [
        "Neigh_alias = ['Neigh_North', 'Neigh_South']\n",
        "BPB_alias = [2, 3, 4, 5, 6]\n",
        "\n",
        "south_prob = float(len(df[df['Neigh'] == 'Neigh_South']))/len(df)\n",
        "bpb_prob = [(df.BPB == a).count()/len(df) for a in BPB_alias]\n",
        "\n",
        "\n",
        "# Neigh_prob = torch.tensor([north_prob, 1- north_prob])\n",
        "BPB_prob = torch.tensor(bpb_prob)\n",
        "\n",
        "exogenous_dists = {\n",
        "    'Nn': dist.Bernoulli(torch.tensor(south_prob)),\n",
        "    'Nb': dist.Categorical(BPB_prob),\n",
        "    'Nr': dist.Normal(torch.tensor(0.), torch.tensor(rent_model_se)),\n",
        "    'Nz': dist.Normal(torch.tensor(0.), torch.tensor(zest_model_se))\n",
        "}\n",
        "\n",
        "\n",
        "def scm(exogenous_dists):\n",
        "    Nn = pyro.sample(\"Nn\", exogenous_dists['Nn'])\n",
        "    Nb = pyro.sample(\"Nb\", exogenous_dists['Nb'])\n",
        "    Nr = pyro.sample(\"Nr\", exogenous_dists['Nr'])\n",
        "    Nz = pyro.sample(\"Nz\", exogenous_dists['Nz'])\n",
        "\n",
        "    z_bounds = torch.tensor(zest_model_se)\n",
        "    r_bounds = torch.tensor(rent_model_se)\n",
        "\n",
        "    # Stay within 1 SD of 0\n",
        "    Nz = min(z_bounds, Nz)\n",
        "    Nz = max(-2 * z_bounds, Nz)\n",
        "\n",
        "    Nr = min(r_bounds, Nr)\n",
        "    Nr = max(-2 * r_bounds, Nr)\n",
        "\n",
        "    Neigh = pyro.sample(\"Neigh\", dist.Delta(Nn))\n",
        "    BPB = pyro.sample(\"BPB\", dist.Delta(Nb))\n",
        "\n",
        "    bpb_converted = BPB_alias[BPB.int()]\n",
        "    neigh_converted = Neigh_alias[Neigh.int()]\n",
        "\n",
        "    rent_pred = rent_model.predict(pd.DataFrame({'BPB': [bpb_converted]}))[0]\n",
        "    zest_pred = zest_model.predict(pd.DataFrame(\n",
        "        {'BPB': [bpb_converted], 'Neigh': [neigh_converted]}))[0]\n",
        "\n",
        "    Rent = pyro.sample(\"Rent\", dist.Delta(torch.tensor(rent_pred) + Nr))\n",
        "    Zest = pyro.sample(\"Zest\", dist.Delta(torch.tensor(zest_pred) + Nz))\n",
        "\n",
        "    ROI = pyro.sample(\"ROI\", dist.Delta(roi(zestimate=Zest,\n",
        "                                            rental_price=Rent,\n",
        "                                            inflation_rate=INFLATION_RATE,\n",
        "                                            mortgage_rate=MORTGAGE_RATE,\n",
        "                                            num_years=NUM_YEARS,\n",
        "                                            down_payment_percent=DOWN_PAYMENT)))\n",
        "\n",
        "    return {'Neigh': Neigh, 'BPB': BPB, 'Rent': Rent, 'Zest': Zest, 'ROI': ROI}"
      ],
      "execution_count": 0,
      "outputs": []
    },
    {
      "cell_type": "markdown",
      "metadata": {
        "id": "LZnutY-cz-XS",
        "colab_type": "text"
      },
      "source": [
        "# Model Analysis"
      ]
    },
    {
      "cell_type": "markdown",
      "metadata": {
        "id": "qLaKPZFgz-XU",
        "colab_type": "text"
      },
      "source": [
        "### Causal Effect on ROI of Changing Neighborhoods - Should we choose North or South?\n",
        "\n",
        "$$\n",
        "P(ROI | do(Neigh=South)) - P(ROI|do(Neigh=North))\n",
        "$$"
      ]
    },
    {
      "cell_type": "code",
      "metadata": {
        "id": "WTf61SjGz-XU",
        "colab_type": "code",
        "colab": {}
      },
      "source": [
        "south_model = pyro.do(\n",
        "    model, data={'Neigh': torch.tensor(Neigh_alias.index('Neigh_South'))})\n",
        "north_model = pyro.do(\n",
        "    model, data={'Neigh': torch.tensor(Neigh_alias.index('Neigh_North'))})\n",
        "\n",
        "south_scm = pyro.do(\n",
        "    scm, data={'Neigh': torch.tensor(Neigh_alias.index('Neigh_South'))})\n",
        "north_scm = pyro.do(\n",
        "    scm, data={'Neigh': torch.tensor(Neigh_alias.index('Neigh_North'))})"
      ],
      "execution_count": 0,
      "outputs": []
    },
    {
      "cell_type": "markdown",
      "metadata": {
        "id": "IOIui2o9z-XY",
        "colab_type": "text"
      },
      "source": [
        "Causal Effect for Model 2(SCM)"
      ]
    },
    {
      "cell_type": "code",
      "metadata": {
        "id": "JALxUiWuz-XY",
        "colab_type": "code",
        "colab": {
          "base_uri": "https://localhost:8080/",
          "height": 34
        },
        "outputId": "67683682-adea-4f13-fa1c-b492a19d5c7a"
      },
      "source": [
        "scm_south_roi_samples = [south_scm(exogenous_dists)[\n",
        "    'ROI'].item() for _ in range(2000)]\n",
        "scm_north_roi_samples = [north_scm(exogenous_dists)[\n",
        "    'ROI'].item() for _ in range(2000)]\n",
        "\n",
        "scm_causal_effect_neigh = mean(\n",
        "    scm_south_roi_samples) - mean(scm_north_roi_samples)\n",
        "scm_causal_effect_neigh"
      ],
      "execution_count": 13,
      "outputs": [
        {
          "output_type": "execute_result",
          "data": {
            "text/plain": [
              "0.006155162406273562"
            ]
          },
          "metadata": {
            "tags": []
          },
          "execution_count": 13
        }
      ]
    },
    {
      "cell_type": "markdown",
      "metadata": {
        "id": "dEuICMrvz-Xb",
        "colab_type": "text"
      },
      "source": [
        "Showing the problematic large variance in the samples"
      ]
    },
    {
      "cell_type": "code",
      "metadata": {
        "id": "CblxjjHfz-Xc",
        "colab_type": "code",
        "colab": {
          "base_uri": "https://localhost:8080/",
          "height": 85
        },
        "outputId": "2197aef4-3bc9-45c5-a48b-a67553fb4624"
      },
      "source": [
        "mean(scm_south_roi_samples), np.std(scm_south_roi_samples), min(\n",
        "    scm_south_roi_samples), max(scm_south_roi_samples)"
      ],
      "execution_count": 14,
      "outputs": [
        {
          "output_type": "execute_result",
          "data": {
            "text/plain": [
              "(-0.9635458486625156,\n",
              " 1.032925030586095,\n",
              " -36.79675193729383,\n",
              " 21.017094065220654)"
            ]
          },
          "metadata": {
            "tags": []
          },
          "execution_count": 14
        }
      ]
    },
    {
      "cell_type": "markdown",
      "metadata": {
        "id": "cp743J0cz-Xf",
        "colab_type": "text"
      },
      "source": [
        "Causal Effect for Model 1"
      ]
    },
    {
      "cell_type": "code",
      "metadata": {
        "id": "sdtJDyHpz-Xg",
        "colab_type": "code",
        "colab": {
          "base_uri": "https://localhost:8080/",
          "height": 34
        },
        "outputId": "d2c8ac88-3e60-4e07-c3d7-b00f50753c3a"
      },
      "source": [
        "south_roi_samples = [south_model()['ROI'].item() for _ in range(2000)]\n",
        "north_roi_samples = [north_model()['ROI'].item() for _ in range(2000)]\n",
        "\n",
        "causal_effect_neigh = mean(south_roi_samples) - mean(north_roi_samples)\n",
        "causal_effect_neigh"
      ],
      "execution_count": 15,
      "outputs": [
        {
          "output_type": "execute_result",
          "data": {
            "text/plain": [
              "0.013694933332127124"
            ]
          },
          "metadata": {
            "tags": []
          },
          "execution_count": 15
        }
      ]
    },
    {
      "cell_type": "markdown",
      "metadata": {
        "id": "nW4HNRUOz-Xj",
        "colab_type": "text"
      },
      "source": [
        "### Results:\n",
        "- SCM Model has too much variance and so it makes it difficult to get good samples\n",
        "- Model 1 shows a 1.3% Increase In ROI from Investing in property in the South as opposed to the North\n",
        "    - Why?\n",
        "        - South includes: San Jose, Cupertino and other properties a bit further from SF\n",
        "        - North includes: Mountain View, Palo Alto - properties in the heart of Silicon Valley and closer to SF"
      ]
    },
    {
      "cell_type": "markdown",
      "metadata": {
        "id": "lgqxDDkpz-Xk",
        "colab_type": "text"
      },
      "source": [
        "### Causal Effect on ROI of Different BPBs"
      ]
    },
    {
      "cell_type": "code",
      "metadata": {
        "id": "97MxFo_iz-Xk",
        "colab_type": "code",
        "colab": {}
      },
      "source": [
        "bpb_roi_samples = []\n",
        "for i in range(len(BPB_alias)):\n",
        "    bpb = BPB_alias[i]\n",
        "    bpb_model = pyro.do(model, data={'BPB': torch.tensor(i)})\n",
        "    bpb_roi_samples.append([bpb_model()['ROI'].item() for _ in range(2000)])"
      ],
      "execution_count": 0,
      "outputs": []
    },
    {
      "cell_type": "code",
      "metadata": {
        "id": "xWCHD3Pzz-Xn",
        "colab_type": "code",
        "colab": {
          "base_uri": "https://localhost:8080/",
          "height": 102
        },
        "outputId": "b8ddf156-975f-4efd-da4e-d0ad912481c6"
      },
      "source": [
        "for i in range(len(BPB_alias)):\n",
        "    bpb = BPB_alias[i]\n",
        "    print(bpb, mean(bpb_roi_samples[i]))"
      ],
      "execution_count": 17,
      "outputs": [
        {
          "output_type": "stream",
          "text": [
            "2 -0.9815098088655113\n",
            "3 -0.9773157244584222\n",
            "4 -0.9739876026678131\n",
            "5 -0.96631667598653\n",
            "6 -0.9708639983602092\n"
          ],
          "name": "stdout"
        }
      ]
    },
    {
      "cell_type": "markdown",
      "metadata": {
        "id": "qhUdP0s5z-Xr",
        "colab_type": "text"
      },
      "source": [
        "### What about BPB=5 vs BPB=2 ?\n",
        "$P(ROI | do(BPB=5)) - P(ROI | do(BPB=2))$"
      ]
    },
    {
      "cell_type": "code",
      "metadata": {
        "id": "megC9qUFz-Xs",
        "colab_type": "code",
        "colab": {
          "base_uri": "https://localhost:8080/",
          "height": 34
        },
        "outputId": "d6147f5d-10b6-4252-a10d-5ebc1702ba4c"
      },
      "source": [
        "mean(bpb_roi_samples[3]) - mean(bpb_roi_samples[0])"
      ],
      "execution_count": 18,
      "outputs": [
        {
          "output_type": "execute_result",
          "data": {
            "text/plain": [
              "0.015193132878981275"
            ]
          },
          "metadata": {
            "tags": []
          },
          "execution_count": 18
        }
      ]
    },
    {
      "cell_type": "markdown",
      "metadata": {
        "id": "Yn0aspPaz-Xv",
        "colab_type": "text"
      },
      "source": [
        "### Results \n",
        "- 3 Beds 2 baths is the best configuration for maximizing ROI\n",
        "- You can increase ROI by 1.5% by doing 3 Beds 2 Baths over a 1 Bed 1 Bath"
      ]
    },
    {
      "cell_type": "markdown",
      "metadata": {
        "id": "k_LrUCZuz-Xv",
        "colab_type": "text"
      },
      "source": [
        "### Given we want a certain Bed and Baths, where should we buy?\n",
        "\n",
        "Example for 2 bed 1 bath:\n",
        "$$\n",
        "P(ROI | do(Neigh= North), BPB=3) - P(ROI | do(Neigh=South), BPB=3)\n",
        "$$"
      ]
    },
    {
      "cell_type": "code",
      "metadata": {
        "scrolled": true,
        "id": "HWldEdDQz-Xw",
        "colab_type": "code",
        "colab": {
          "base_uri": "https://localhost:8080/",
          "height": 102
        },
        "outputId": "56087e25-ceef-4deb-ddc5-bc6323bbd78b"
      },
      "source": [
        "for bpb_index in range(len(BPB_alias)):\n",
        "    bpb = BPB_alias[bpb_index]\n",
        "    roi_means = []\n",
        "    cond_model = pyro.condition(model, {\"BPB\": bpb_index})\n",
        "\n",
        "    for neigh_index in range(len(Neigh_prob)):\n",
        "        curr_model = pyro.do(cond_model, {'Neigh': neigh_index})\n",
        "        roi_mean = curr_model()['ROI'].item()\n",
        "        roi_means.append(roi_mean)\n",
        "\n",
        "    print(\"𝑃(𝑅𝑂𝐼|𝑑𝑜(𝑁𝑒𝑖𝑔ℎ=𝑁𝑜𝑟𝑡ℎ),𝐵𝑃𝐵=%d)−𝑃(𝑅𝑂𝐼|𝑑𝑜(𝑁𝑒𝑖𝑔ℎ=𝑆𝑜𝑢𝑡ℎ),𝐵𝑃𝐵=%d) = %.3f - %.3f = %.3f\" % (bpb, bpb,\n",
        "                                                                                                roi_means[0],\n",
        "                                                                                                roi_means[1],\n",
        "                                                                                                roi_means[0] -\n",
        "                                                                                                roi_means[1]\n",
        "                                                                                                ))"
      ],
      "execution_count": 19,
      "outputs": [
        {
          "output_type": "stream",
          "text": [
            "𝑃(𝑅𝑂𝐼|𝑑𝑜(𝑁𝑒𝑖𝑔ℎ=𝑁𝑜𝑟𝑡ℎ),𝐵𝑃𝐵=2)−𝑃(𝑅𝑂𝐼|𝑑𝑜(𝑁𝑒𝑖𝑔ℎ=𝑆𝑜𝑢𝑡ℎ),𝐵𝑃𝐵=2) = -0.985 - -0.976 = -0.009\n",
            "𝑃(𝑅𝑂𝐼|𝑑𝑜(𝑁𝑒𝑖𝑔ℎ=𝑁𝑜𝑟𝑡ℎ),𝐵𝑃𝐵=3)−𝑃(𝑅𝑂𝐼|𝑑𝑜(𝑁𝑒𝑖𝑔ℎ=𝑆𝑜𝑢𝑡ℎ),𝐵𝑃𝐵=3) = -0.983 - -0.970 = -0.013\n",
            "𝑃(𝑅𝑂𝐼|𝑑𝑜(𝑁𝑒𝑖𝑔ℎ=𝑁𝑜𝑟𝑡ℎ),𝐵𝑃𝐵=4)−𝑃(𝑅𝑂𝐼|𝑑𝑜(𝑁𝑒𝑖𝑔ℎ=𝑆𝑜𝑢𝑡ℎ),𝐵𝑃𝐵=4) = -0.980 - -0.966 = -0.014\n",
            "𝑃(𝑅𝑂𝐼|𝑑𝑜(𝑁𝑒𝑖𝑔ℎ=𝑁𝑜𝑟𝑡ℎ),𝐵𝑃𝐵=5)−𝑃(𝑅𝑂𝐼|𝑑𝑜(𝑁𝑒𝑖𝑔ℎ=𝑆𝑜𝑢𝑡ℎ),𝐵𝑃𝐵=5) = -0.974 - -0.956 = -0.019\n",
            "𝑃(𝑅𝑂𝐼|𝑑𝑜(𝑁𝑒𝑖𝑔ℎ=𝑁𝑜𝑟𝑡ℎ),𝐵𝑃𝐵=6)−𝑃(𝑅𝑂𝐼|𝑑𝑜(𝑁𝑒𝑖𝑔ℎ=𝑆𝑜𝑢𝑡ℎ),𝐵𝑃𝐵=6) = -0.977 - -0.964 = -0.013\n"
          ],
          "name": "stdout"
        }
      ]
    },
    {
      "cell_type": "markdown",
      "metadata": {
        "id": "c6sg9QE1z-Xz",
        "colab_type": "text"
      },
      "source": [
        "### Results\n",
        "- No matter which BPB you are looking at, it is always better to pick a property in the South rather than the North"
      ]
    },
    {
      "cell_type": "markdown",
      "metadata": {
        "id": "6_LlEd8Tz-Xz",
        "colab_type": "text"
      },
      "source": [
        "### Given we want to buy in a certain area, what beds and baths should we buy?\n",
        "\n",
        "Example for the North Neighborhood\n",
        "$$\n",
        "P(ROI | do(BPB= x), Neigh= North) - P(ROI | do(BPB=y), Neigh= North)\n",
        "$$"
      ]
    },
    {
      "cell_type": "code",
      "metadata": {
        "id": "hodhyceoz-X0",
        "colab_type": "code",
        "colab": {
          "base_uri": "https://localhost:8080/",
          "height": 221
        },
        "outputId": "f92a9b9e-8dcb-4e7e-a9b1-bebfc9a248ad"
      },
      "source": [
        "for neigh_index in range(len(Neigh_prob)):\n",
        "    roi_means = []\n",
        "    cond_model = pyro.condition(model, {\"Neigh\": neigh_index})\n",
        "    neigh = Neigh_alias[neigh_index]\n",
        "    print(neigh)\n",
        "\n",
        "    for bpb_index in range(len(BPB_prob)):\n",
        "        bpb = BPB_alias[bpb_index]\n",
        "        curr_model = pyro.do(cond_model, {'BPB': bpb_index})\n",
        "        roi_mean = curr_model()['ROI'].item()\n",
        "        print(\"𝑃(𝑅𝑂𝐼|𝑑𝑜(𝐵𝑃𝐵=%s),𝑁𝑒𝑖𝑔ℎ=%s) = %.3f\" % (bpb, neigh, roi_mean))"
      ],
      "execution_count": 20,
      "outputs": [
        {
          "output_type": "stream",
          "text": [
            "Neigh_North\n",
            "𝑃(𝑅𝑂𝐼|𝑑𝑜(𝐵𝑃𝐵=2),𝑁𝑒𝑖𝑔ℎ=Neigh_North) = -0.985\n",
            "𝑃(𝑅𝑂𝐼|𝑑𝑜(𝐵𝑃𝐵=3),𝑁𝑒𝑖𝑔ℎ=Neigh_North) = -0.983\n",
            "𝑃(𝑅𝑂𝐼|𝑑𝑜(𝐵𝑃𝐵=4),𝑁𝑒𝑖𝑔ℎ=Neigh_North) = -0.980\n",
            "𝑃(𝑅𝑂𝐼|𝑑𝑜(𝐵𝑃𝐵=5),𝑁𝑒𝑖𝑔ℎ=Neigh_North) = -0.974\n",
            "𝑃(𝑅𝑂𝐼|𝑑𝑜(𝐵𝑃𝐵=6),𝑁𝑒𝑖𝑔ℎ=Neigh_North) = -0.977\n",
            "Neigh_South\n",
            "𝑃(𝑅𝑂𝐼|𝑑𝑜(𝐵𝑃𝐵=2),𝑁𝑒𝑖𝑔ℎ=Neigh_South) = -0.976\n",
            "𝑃(𝑅𝑂𝐼|𝑑𝑜(𝐵𝑃𝐵=3),𝑁𝑒𝑖𝑔ℎ=Neigh_South) = -0.970\n",
            "𝑃(𝑅𝑂𝐼|𝑑𝑜(𝐵𝑃𝐵=4),𝑁𝑒𝑖𝑔ℎ=Neigh_South) = -0.966\n",
            "𝑃(𝑅𝑂𝐼|𝑑𝑜(𝐵𝑃𝐵=5),𝑁𝑒𝑖𝑔ℎ=Neigh_South) = -0.956\n",
            "𝑃(𝑅𝑂𝐼|𝑑𝑜(𝐵𝑃𝐵=6),𝑁𝑒𝑖𝑔ℎ=Neigh_South) = -0.964\n"
          ],
          "name": "stdout"
        }
      ]
    },
    {
      "cell_type": "markdown",
      "metadata": {
        "id": "Ib1GDJn9z-X3",
        "colab_type": "text"
      },
      "source": [
        "### Results\n",
        "- If you are interested in purchasing a property in the North, it should be a 3 bed 2 bath. If you are interested in purchasing a property in the South it should also be a 3 bed 2 bath."
      ]
    },
    {
      "cell_type": "markdown",
      "metadata": {
        "id": "QLv2LPjZz-X3",
        "colab_type": "text"
      },
      "source": [
        "# Property Examples\n",
        "- here are the properties with the highest ROIs\n",
        "- We can see that these properties follow the effects we have seen in our model\n",
        "    - 5 BPB, all are South Neighborhood"
      ]
    },
    {
      "cell_type": "code",
      "metadata": {
        "id": "WYe1Y9Qyz-X4",
        "colab_type": "code",
        "colab": {
          "base_uri": "https://localhost:8080/",
          "height": 204
        },
        "outputId": "4fff609a-3918-448f-88e6-d12ceb0342b3"
      },
      "source": [
        "df.sort_values([\"ROI\"], ascending=False)[:5]"
      ],
      "execution_count": 21,
      "outputs": [
        {
          "output_type": "execute_result",
          "data": {
            "text/html": [
              "<div>\n",
              "<style scoped>\n",
              "    .dataframe tbody tr th:only-of-type {\n",
              "        vertical-align: middle;\n",
              "    }\n",
              "\n",
              "    .dataframe tbody tr th {\n",
              "        vertical-align: top;\n",
              "    }\n",
              "\n",
              "    .dataframe thead th {\n",
              "        text-align: right;\n",
              "    }\n",
              "</style>\n",
              "<table border=\"1\" class=\"dataframe\">\n",
              "  <thead>\n",
              "    <tr style=\"text-align: right;\">\n",
              "      <th></th>\n",
              "      <th>Beds</th>\n",
              "      <th>Baths</th>\n",
              "      <th>Rent</th>\n",
              "      <th>neighbourhood</th>\n",
              "      <th>latitude</th>\n",
              "      <th>longitude</th>\n",
              "      <th>Type</th>\n",
              "      <th>Zest</th>\n",
              "      <th>ROI</th>\n",
              "      <th>Neigh</th>\n",
              "      <th>BPB</th>\n",
              "      <th>latlng</th>\n",
              "    </tr>\n",
              "  </thead>\n",
              "  <tbody>\n",
              "    <tr>\n",
              "      <th>27</th>\n",
              "      <td>2</td>\n",
              "      <td>2</td>\n",
              "      <td>140.0</td>\n",
              "      <td>San Jose</td>\n",
              "      <td>37.40075</td>\n",
              "      <td>-121.92194</td>\n",
              "      <td>Townhouse</td>\n",
              "      <td>214665.0</td>\n",
              "      <td>-0.883995</td>\n",
              "      <td>Neigh_South</td>\n",
              "      <td>4</td>\n",
              "      <td>-4559.971997</td>\n",
              "    </tr>\n",
              "    <tr>\n",
              "      <th>110</th>\n",
              "      <td>3</td>\n",
              "      <td>2</td>\n",
              "      <td>550.0</td>\n",
              "      <td>San Jose</td>\n",
              "      <td>37.31737</td>\n",
              "      <td>-121.78764</td>\n",
              "      <td>Townhouse</td>\n",
              "      <td>998982.0</td>\n",
              "      <td>-0.902070</td>\n",
              "      <td>Neigh_South</td>\n",
              "      <td>5</td>\n",
              "      <td>-4544.794423</td>\n",
              "    </tr>\n",
              "    <tr>\n",
              "      <th>115</th>\n",
              "      <td>2</td>\n",
              "      <td>2</td>\n",
              "      <td>275.0</td>\n",
              "      <td>San Jose</td>\n",
              "      <td>37.31392</td>\n",
              "      <td>-121.93997</td>\n",
              "      <td>Condominium</td>\n",
              "      <td>513454.0</td>\n",
              "      <td>-0.904733</td>\n",
              "      <td>Neigh_South</td>\n",
              "      <td>4</td>\n",
              "      <td>-4550.058285</td>\n",
              "    </tr>\n",
              "    <tr>\n",
              "      <th>16</th>\n",
              "      <td>2</td>\n",
              "      <td>2</td>\n",
              "      <td>499.0</td>\n",
              "      <td>San Jose</td>\n",
              "      <td>37.31996</td>\n",
              "      <td>-121.94828</td>\n",
              "      <td>Condominium</td>\n",
              "      <td>1210000.0</td>\n",
              "      <td>-0.926646</td>\n",
              "      <td>Neigh_South</td>\n",
              "      <td>4</td>\n",
              "      <td>-4551.104932</td>\n",
              "    </tr>\n",
              "    <tr>\n",
              "      <th>17</th>\n",
              "      <td>3</td>\n",
              "      <td>2</td>\n",
              "      <td>375.0</td>\n",
              "      <td>San Jose</td>\n",
              "      <td>37.39220</td>\n",
              "      <td>-121.86552</td>\n",
              "      <td>Condominium</td>\n",
              "      <td>930000.0</td>\n",
              "      <td>-0.928277</td>\n",
              "      <td>Neigh_South</td>\n",
              "      <td>5</td>\n",
              "      <td>-4556.819897</td>\n",
              "    </tr>\n",
              "  </tbody>\n",
              "</table>\n",
              "</div>"
            ],
            "text/plain": [
              "     Beds  Baths   Rent neighbourhood  ...       ROI        Neigh BPB       latlng\n",
              "27      2      2  140.0      San Jose  ... -0.883995  Neigh_South   4 -4559.971997\n",
              "110     3      2  550.0      San Jose  ... -0.902070  Neigh_South   5 -4544.794423\n",
              "115     2      2  275.0      San Jose  ... -0.904733  Neigh_South   4 -4550.058285\n",
              "16      2      2  499.0      San Jose  ... -0.926646  Neigh_South   4 -4551.104932\n",
              "17      3      2  375.0      San Jose  ... -0.928277  Neigh_South   5 -4556.819897\n",
              "\n",
              "[5 rows x 12 columns]"
            ]
          },
          "metadata": {
            "tags": []
          },
          "execution_count": 21
        }
      ]
    },
    {
      "cell_type": "markdown",
      "metadata": {
        "id": "Yh8IvOtfz-X7",
        "colab_type": "text"
      },
      "source": [
        "- [Property 1](https://www.zillow.com/homedetails/435-Milan-Dr-San-Jose-CA-95134/2143393753_zpid/)\n",
        "- [Property 2](https://www.zillow.com/homedetails/3215-Lamond-Ct-San-Jose-CA-95148/19793643_zpid/)\n",
        "- [Property 5](https://www.zillow.com/homedetails/2409-Venturi-Pl-UNIT-2-San-Jose-CA-95132/124743156_zpid/)"
      ]
    },
    {
      "cell_type": "markdown",
      "metadata": {
        "id": "7R2L5hXjz-X8",
        "colab_type": "text"
      },
      "source": [
        "# Next Steps\n",
        "\n",
        "1. **Get more data**\n",
        "2. Consider adding new nodes to the DAG\n",
        "    1. Individual Neighborhoods as opposed to North and South\n",
        "    2. Host and ratings\n",
        "    3. Distance to transit\n",
        "3. Reconsider new edges with our new data\n",
        "3. Test more complex functions to fit Rent and Zestimate\n",
        "    1. Currently using factor effects models\n",
        "4. Attempt to use SCM again\n",
        "    1. Our models have high Std Error so using SCM is difficult\n",
        "    2. Increasing the amount of data would also decrease Std. Error and help give better results from SCM"
      ]
    }
  ]
}